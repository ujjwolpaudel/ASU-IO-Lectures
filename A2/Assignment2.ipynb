{
 "cells": [
  {
   "cell_type": "markdown",
   "id": "037a7ae4",
   "metadata": {},
   "source": [
    "## Rust (1987) Replication\n",
    "\n",
    "### a. Estimate the replacement cost RC and the cost function parameter $\\theta_{11}$ by maximum likelihood using the nested fixed-point method for computing the value functions. (More specifically, follow the Rust (1987) algorithm to replicate/find close numbers to the estimates for Group 4 buses in Table IX.) No need to compute standard errors."
   ]
  },
  {
   "cell_type": "code",
   "execution_count": 1,
   "id": "c60ab28c",
   "metadata": {},
   "outputs": [],
   "source": [
    "import numpy as np\n",
    "import pandas as pd\n",
    "from scipy.optimize import minimize"
   ]
  },
  {
   "cell_type": "code",
   "execution_count": 2,
   "id": "8dc280a0",
   "metadata": {},
   "outputs": [
    {
     "data": {
      "text/html": [
       "<div>\n",
       "<style scoped>\n",
       "    .dataframe tbody tr th:only-of-type {\n",
       "        vertical-align: middle;\n",
       "    }\n",
       "\n",
       "    .dataframe tbody tr th {\n",
       "        vertical-align: top;\n",
       "    }\n",
       "\n",
       "    .dataframe thead th {\n",
       "        text-align: right;\n",
       "    }\n",
       "</style>\n",
       "<table border=\"1\" class=\"dataframe\">\n",
       "  <thead>\n",
       "    <tr style=\"text-align: right;\">\n",
       "      <th></th>\n",
       "      <th>Bus_ID</th>\n",
       "      <th>period</th>\n",
       "      <th>state</th>\n",
       "      <th>mileage</th>\n",
       "      <th>decision</th>\n",
       "    </tr>\n",
       "  </thead>\n",
       "  <tbody>\n",
       "    <tr>\n",
       "      <th>0</th>\n",
       "      <td>5297</td>\n",
       "      <td>1</td>\n",
       "      <td>1</td>\n",
       "      <td>6299</td>\n",
       "      <td>0</td>\n",
       "    </tr>\n",
       "    <tr>\n",
       "      <th>1</th>\n",
       "      <td>5297</td>\n",
       "      <td>2</td>\n",
       "      <td>2</td>\n",
       "      <td>10479</td>\n",
       "      <td>0</td>\n",
       "    </tr>\n",
       "    <tr>\n",
       "      <th>2</th>\n",
       "      <td>5297</td>\n",
       "      <td>3</td>\n",
       "      <td>3</td>\n",
       "      <td>15201</td>\n",
       "      <td>0</td>\n",
       "    </tr>\n",
       "    <tr>\n",
       "      <th>3</th>\n",
       "      <td>5297</td>\n",
       "      <td>4</td>\n",
       "      <td>4</td>\n",
       "      <td>20326</td>\n",
       "      <td>0</td>\n",
       "    </tr>\n",
       "    <tr>\n",
       "      <th>4</th>\n",
       "      <td>5297</td>\n",
       "      <td>5</td>\n",
       "      <td>4</td>\n",
       "      <td>24898</td>\n",
       "      <td>0</td>\n",
       "    </tr>\n",
       "  </tbody>\n",
       "</table>\n",
       "</div>"
      ],
      "text/plain": [
       "   Bus_ID  period  state  mileage  decision\n",
       "0    5297       1      1     6299         0\n",
       "1    5297       2      2    10479         0\n",
       "2    5297       3      3    15201         0\n",
       "3    5297       4      4    20326         0\n",
       "4    5297       5      4    24898         0"
      ]
     },
     "execution_count": 2,
     "metadata": {},
     "output_type": "execute_result"
    }
   ],
   "source": [
    "df = pd.read_csv(\"group_4.csv\")\n",
    "df.head()"
   ]
  },
  {
   "cell_type": "code",
   "execution_count": 3,
   "id": "7c22fe3e",
   "metadata": {},
   "outputs": [],
   "source": [
    "class Rust:\n",
    "    def __init__(self, beta=0.9999, theta_1=3.6, RC=10, T=90, p=0.3919, q=0.5953, scale=0.001):\n",
    "        \n",
    "        \"\"\"\n",
    "        Initializes an instance of Rust class with the given arguments.\n",
    "\n",
    "        Parameters:\n",
    "        - beta: float, default 0.9999\n",
    "        - theta_1: float, default 3.6\n",
    "        - RC: int, default 10\n",
    "        - T: int, default 90\n",
    "        - p: float, default 0.3919 = theta_30\n",
    "        - q: float, default 0.5953 = theta_31\n",
    "        - scale: float, default 0.001\n",
    "        \"\"\"\n",
    "        self.beta, self.theta_1, self.RC, self.T, self.p, self.q, self.scale = beta, theta_1, RC, T, p, q, scale\n",
    "        \n",
    "        # Create matrix P with values of p, q, and 1-p-q on the diagonals\n",
    "        self.P = np.diag(p * np.ones(T)) + np.diag(q * np.ones(T - 1), k=1) + np.diag((1 - p - q) * np.ones(T - 2), k=2)\n",
    "        \n",
    "        # Normalize the last column of P so that the sum of each row in P is equal to 1\n",
    "        self.P[:, -1] += 1 - self.P.sum(axis=1)\n",
    "        \n",
    "        # Create an array x with values ranging from 0 to T-1\n",
    "        self.x = np.arange(T, dtype=np.float64)\n",
    "\n",
    "\n",
    "    @staticmethod\n",
    "    def c(x, rust): # maintainance cost of the bus engine\n",
    "        return rust.scale * rust.theta_1 * x\n",
    "\n",
    "\n",
    "    @staticmethod\n",
    "    def u(x, i, rust): # utility/payoff from the bus engine\n",
    "        return - Rust.c(x, rust) if i == 0 else - Rust.c(x, rust) - rust.RC\n",
    "\n",
    "\n",
    "    def solve_EV(self, tol=1e-3, maxiter=300000):\n",
    "        \"\"\"\n",
    "        Solve for the expected value (EV) of the value function using the Rust algorithm.\n",
    "        Args:\n",
    "        tol (float, optional): The tolerance level for convergence. Default is 1e-3.\n",
    "        maxiter (int, optional): The maximum number of iterations. Default is 300000.\n",
    "        Returns:\n",
    "        numpy.ndarray: The expected value of the value function.\n",
    "        \"\"\"\n",
    "        \n",
    "        EV = np.zeros(self.T)  # Initialize the expected value array with zeros\n",
    "\n",
    "        for _ in range(maxiter):  # Iterate until convergence or maximum iterations\n",
    "            \n",
    "            # Compute expected values of continuing to wait and of replacing the engine\n",
    "            wait = Rust.u(self.x, 0, self) + self.beta * EV\n",
    "            replace = Rust.u(self.x[0], 1, self) + self.beta * EV[0]\n",
    "            \n",
    "            # Calculate new expected values and update the EV array\n",
    "            EV_new = np.exp(replace - EV) + np.exp(wait - EV)\n",
    "            EV_new = self.P @ (np.log(EV_new) + EV)\n",
    "            if np.linalg.norm(EV - EV_new) < tol:\n",
    "                return EV_new\n",
    "            EV = EV_new\n",
    "\n",
    "\n",
    "    def conditional_probability(self):\n",
    "        \"\"\"\n",
    "        Calculate the conditional probability of waiting versus replacing the engine given the expected value (EV) of the\n",
    "        value function.\n",
    "\n",
    "        Returns:\n",
    "        Tuple of two floats: The probabilities of waiting and replacing the engine, respectively.\n",
    "        \"\"\"\n",
    "        EV = self.solve_EV() # Calculate the expected value of the value function\n",
    "        \n",
    "        # Calculate the expected utility of waiting and of replacing the engine\n",
    "        wait = Rust.u(self.x, 0, self) + self.beta * self.P @ EV\n",
    "        replace = Rust.u(self.x[0], 1, self) + self.beta * EV[0]\n",
    "        \n",
    "        # Calculate the conditional probability of waiting\n",
    "        P_wait = 1 / (1 + np.exp(replace - wait))\n",
    "        \n",
    "        # Return the probabilities of waiting and replacing the engine\n",
    "        return P_wait, 1 - P_wait"
   ]
  },
  {
   "cell_type": "code",
   "execution_count": 4,
   "id": "f24fee10",
   "metadata": {},
   "outputs": [],
   "source": [
    "def log_likelihood(theta, df, p, q):\n",
    "    \"\"\"\n",
    "    Compute the log-likelihood of the binary choice model given the parameter values `theta`, the data frame `df`, and\n",
    "    the transition probabilities `p` and `q`.\n",
    "\n",
    "    Returns:\n",
    "    Float: The negative of the log-likelihood.\n",
    "    \"\"\"\n",
    "    # Unpack the `theta` tuple into the `theta_1` and `RC` variables and create an instance of the `Rust` class\n",
    "    # with these parameter values and the `p` and `q` probabilities.\n",
    "    theta_1, RC = theta\n",
    "    r = Rust(theta_1=theta_1, RC=RC, p=p, q=q)\n",
    "\n",
    "    # Get the probabilities of waiting and replacing the engine\n",
    "    P_wait, P_replace = r.conditional_probability()\n",
    "\n",
    "    # Initialize a variable `logL` to zero and loop over each row in the `df` data frame.\n",
    "    logL = 0\n",
    "    for decision, state in zip(df.decision, df.state.astype(np.int64)):\n",
    "        # For each row, add the log-probability of the observed decision (wait or replace) given the state to `logL`.\n",
    "        logL += np.log(P_wait[state]) if decision == 0 else np.log(P_replace[state])\n",
    "\n",
    "    # Return the negative of `logL`, which is the negative of the log-likelihood.\n",
    "    return -logL"
   ]
  },
  {
   "cell_type": "code",
   "execution_count": 5,
   "id": "688b095c",
   "metadata": {},
   "outputs": [
    {
     "name": "stdout",
     "output_type": "stream",
     "text": [
      "CPU times: user 4min 6s, sys: 630 ms, total: 4min 6s\n",
      "Wall time: 4min 6s\n"
     ]
    }
   ],
   "source": [
    "%%time\n",
    "p=0.3919\n",
    "q=0.5953\n",
    "results = minimize(log_likelihood, x0=(0.1, 10), args=(df, p, q)).x"
   ]
  },
  {
   "cell_type": "code",
   "execution_count": 6,
   "id": "77ff1e70",
   "metadata": {},
   "outputs": [
    {
     "data": {
      "text/plain": [
       "array([ 2.29716842, 10.20707904])"
      ]
     },
     "execution_count": 6,
     "metadata": {},
     "output_type": "execute_result"
    }
   ],
   "source": [
    "results"
   ]
  },
  {
   "cell_type": "markdown",
   "id": "da517a8b",
   "metadata": {},
   "source": [
    "The first parameter in the above arrow indicates the estimate for $\\theta_{11}$, and the second parameter indicates the estimate for RC. "
   ]
  },
  {
   "cell_type": "markdown",
   "id": "efad3845",
   "metadata": {},
   "source": [
    "### b. Provide pseudo-code for an alternative CCP method to the nested fixed-point method. Discuss one benefit and one limitation of this CCP method as compared to the full solution method you used in (a.). (To emphasize: no need to write the exact code or compute values with this method, pseudo-code is enough.)"
   ]
  },
  {
   "cell_type": "markdown",
   "id": "c62d0026",
   "metadata": {},
   "source": [
    "Here is a pseudo-code for a CCP approach, alternative to Rust's nested fixed-point method and based on Hotz and Miller (1993)."
   ]
  },
  {
   "cell_type": "markdown",
   "id": "70c01d3e",
   "metadata": {},
   "source": [
    "Steps \n",
    "\n",
    "1. Use frequency of the replacement decisions from the data to estimate the conditional choice probabilites (CCP)\n",
    "\n",
    "2. Do Hotz and Miller inversion to find the estimate of expected value function using step 1. \n",
    "\n",
    "3. Estimate expected policy function from step 2. \n",
    "\n",
    "4. Compute the log-likelihood function, $\\mathcal{L}(\\theta)$, using step 3 to estimate the parameters $\\theta$."
   ]
  },
  {
   "cell_type": "markdown",
   "id": "dd16a28a",
   "metadata": {},
   "source": [
    "Advantage: The main issue with the Rust approach is value function iteration: computation of the parameters suffers from curse of dimensionality if the state space gets large. Solving the model using Hotz and Miller (1993) gets around this issue as we don't solve a fixed point problem. \n",
    "\n",
    "Limitation: As we need to discretize the state space, $H\\&M$ approach can get complicated as we need enough variation in each state actions. While it's also valid in Rust, it is specifically an issue in $H\\&M$ as it needs the consistency of CCP estimates. "
   ]
  }
 ],
 "metadata": {
  "kernelspec": {
   "display_name": "Python 3 (ipykernel)",
   "language": "python",
   "name": "python3"
  },
  "language_info": {
   "codemirror_mode": {
    "name": "ipython",
    "version": 3
   },
   "file_extension": ".py",
   "mimetype": "text/x-python",
   "name": "python",
   "nbconvert_exporter": "python",
   "pygments_lexer": "ipython3",
   "version": "3.8.12"
  }
 },
 "nbformat": 4,
 "nbformat_minor": 5
}
